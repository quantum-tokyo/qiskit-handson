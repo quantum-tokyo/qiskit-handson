{
 "cells": [
  {
   "cell_type": "code",
   "execution_count": 1,
   "metadata": {},
   "outputs": [],
   "source": [
    "import math\n",
    "import numpy as np\n",
    "import matplotlib.pyplot as plt\n",
    "#from fractions import Fraction\n",
    "from quantum_computer_math_guide_trigonometric_intro_exercise_answer import *"
   ]
  },
  {
   "cell_type": "markdown",
   "metadata": {},
   "source": [
    "##### 演習を始める前に\n",
    "\n",
    "- pythonを利用して度数法(deg)を弧度法(rad)に変換する\n",
    "`math.radians(90) 90°→ 1.5707963267948966` \n",
    "- pythonを利用して弧度法(rad)を度数法(deg) に変換する\n",
    "`math.degrees(np.pi/2) 1.5707963267948966→ 90°` \n",
    "- pythonを利用してsinを計算する\n",
    "`math.sin(math.radians(30))`\n",
    " - 30度の正弦は0.5だが、無理数である円周率を正確に計算できないので誤差が生じる。適当な桁数で四捨五入したい場合は、round()関数またはformat()メソッド、format()関数で丸める。round()の返り値は数値（整数intか浮動小数点数float）だが、format()の返り値は文字列strなので注意する。またround()関数は第二引数に小数点以下の桁数を指定する。厳密には四捨五入ではないので注意。\n",
    "`round(math.sin(math.radians(30)),1)`\n",
    "`'{:.1}'.format(math.radians(30))`\n",
    "`format(math.radians(30), '.1')`\n",
    "- pythonを利用してcosを計算する\n",
    "`math.cos(math.radians(60))`\n",
    "- pythonを利用してtanを計算する\n",
    "`math.tan(math.radians(45))`\n",
    "- pythonを利用して逆正弦arcsinを計算する\n",
    "`math.asin(0.5)`\n",
    "- pythonを利用して逆余弦arccosを計算する\n",
    "`math.acos(0.5)`\n",
    "- pythonを利用して逆正接arctanを計算する\n",
    "`math.atan(1)`\n",
    "- pythonを利用してべき乗を計算する\n",
    "`2 ** 8`"
   ]
  },
  {
   "cell_type": "markdown",
   "metadata": {},
   "source": [
    "# 三角関数の値\n",
    "\n",
    "次の三角関数の値を求めてください。"
   ]
  },
  {
   "cell_type": "markdown",
   "metadata": {},
   "source": [
    "【問題1】$\\sin 30^\\circ$ "
   ]
  },
  {
   "cell_type": "code",
   "execution_count": 2,
   "metadata": {},
   "outputs": [
    {
     "name": "stdout",
     "output_type": "stream",
     "text": [
      "正解です！おめでとうございます！🎉\n"
     ]
    }
   ],
   "source": [
    "ans1 =  1/2 # こちらに値を書いてください\n",
    "print(check_answer_exercise(ans1,\"ans1\"))"
   ]
  },
  {
   "cell_type": "markdown",
   "metadata": {},
   "source": [
    "【問題2】 $\\cos 90^\\circ$ "
   ]
  },
  {
   "cell_type": "code",
   "execution_count": 3,
   "metadata": {},
   "outputs": [
    {
     "name": "stdout",
     "output_type": "stream",
     "text": [
      "正解です！おめでとうございます！🎉\n"
     ]
    }
   ],
   "source": [
    "ans2 = 0#　こちらに値を書いてください。\n",
    "print(check_answer_exercise(ans2,\"ans2\"))"
   ]
  },
  {
   "cell_type": "markdown",
   "metadata": {},
   "source": [
    "【問題3】$\\tan 45^\\circ$ "
   ]
  },
  {
   "cell_type": "code",
   "execution_count": 4,
   "metadata": {},
   "outputs": [
    {
     "name": "stdout",
     "output_type": "stream",
     "text": [
      "正解です！おめでとうございます！🎉\n"
     ]
    }
   ],
   "source": [
    "ans3 = 1#　こちらに値を書いてください。\n",
    "print(check_answer_exercise(ans3,\"ans3\"))"
   ]
  },
  {
   "cell_type": "markdown",
   "metadata": {},
   "source": [
    "【問題4】 $\\cos 60^\\circ$ "
   ]
  },
  {
   "cell_type": "code",
   "execution_count": 5,
   "metadata": {},
   "outputs": [
    {
     "name": "stdout",
     "output_type": "stream",
     "text": [
      "正解です！おめでとうございます！🎉\n"
     ]
    }
   ],
   "source": [
    "ans4 = 1/2 #　こちらに値を書いてください。\n",
    "print(check_answer_exercise(ans4,\"ans4\"))"
   ]
  },
  {
   "cell_type": "markdown",
   "metadata": {},
   "source": [
    "【問題5】 $\\sin 0^\\circ$ "
   ]
  },
  {
   "cell_type": "code",
   "execution_count": 6,
   "metadata": {},
   "outputs": [
    {
     "name": "stdout",
     "output_type": "stream",
     "text": [
      "正解です！おめでとうございます！🎉\n"
     ]
    }
   ],
   "source": [
    "ans5 = 0 #　こちらに値を書いてください。\n",
    "print(check_answer_exercise(ans5,\"ans5\"))"
   ]
  },
  {
   "cell_type": "markdown",
   "metadata": {},
   "source": [
    "【問題6】 $\\cos 120^\\circ$ "
   ]
  },
  {
   "cell_type": "code",
   "execution_count": 7,
   "metadata": {},
   "outputs": [
    {
     "name": "stdout",
     "output_type": "stream",
     "text": [
      "正解です！おめでとうございます！🎉\n"
     ]
    }
   ],
   "source": [
    "ans6 = -1/2 #　こちらに値を書いてください。\n",
    "print(check_answer_exercise(ans6,\"ans6\"))"
   ]
  },
  {
   "cell_type": "markdown",
   "metadata": {},
   "source": [
    "【問題7】 $\\tan 135^\\circ$ "
   ]
  },
  {
   "cell_type": "code",
   "execution_count": 8,
   "metadata": {
    "scrolled": true
   },
   "outputs": [
    {
     "name": "stdout",
     "output_type": "stream",
     "text": [
      "正解です！おめでとうございます！🎉\n"
     ]
    }
   ],
   "source": [
    "ans7 = -1 #　こちらに値を書いてください。\n",
    "print(check_answer_exercise(ans7,\"ans7\"))"
   ]
  },
  {
   "cell_type": "markdown",
   "metadata": {},
   "source": [
    "【問題8】 $\\cos 180^\\circ$ "
   ]
  },
  {
   "cell_type": "code",
   "execution_count": 9,
   "metadata": {},
   "outputs": [
    {
     "name": "stdout",
     "output_type": "stream",
     "text": [
      "正解です！おめでとうございます！🎉\n"
     ]
    }
   ],
   "source": [
    "ans8 =  -1#　こちらに値を書いてください。\n",
    "print(check_answer_exercise(ans8,\"ans8\"))"
   ]
  },
  {
   "cell_type": "markdown",
   "metadata": {},
   "source": [
    "【問題9】 $\\sin (-30^\\circ)$ "
   ]
  },
  {
   "cell_type": "code",
   "execution_count": 10,
   "metadata": {},
   "outputs": [
    {
     "name": "stdout",
     "output_type": "stream",
     "text": [
      "正解です！おめでとうございます！🎉\n"
     ]
    }
   ],
   "source": [
    "ans9 =  -1/2#　こちらに値を書いてください。\n",
    "print(check_answer_exercise(ans9,\"ans9\"))"
   ]
  },
  {
   "cell_type": "markdown",
   "metadata": {},
   "source": [
    "【問題10】 $\\cos (-90^\\circ)$ "
   ]
  },
  {
   "cell_type": "code",
   "execution_count": 11,
   "metadata": {},
   "outputs": [
    {
     "name": "stdout",
     "output_type": "stream",
     "text": [
      "正解です！おめでとうございます！🎉\n"
     ]
    }
   ],
   "source": [
    "ans10 =  0 #　こちらに値を書いてください。\n",
    "print(check_answer_exercise(ans10,\"ans10\"))"
   ]
  },
  {
   "cell_type": "markdown",
   "metadata": {},
   "source": [
    "【問題11】 $\\sin (450^\\circ)$ "
   ]
  },
  {
   "cell_type": "code",
   "execution_count": 12,
   "metadata": {},
   "outputs": [
    {
     "name": "stdout",
     "output_type": "stream",
     "text": [
      "正解です！おめでとうございます！🎉\n"
     ]
    }
   ],
   "source": [
    "ans11 =  1 #　こちらに値を書いてください。\n",
    "print(check_answer_exercise(ans11,\"ans11\"))"
   ]
  },
  {
   "cell_type": "markdown",
   "metadata": {},
   "source": [
    "【問題12】 $\\arcsin (\\frac{1}{\\sqrt 2})$  "
   ]
  },
  {
   "cell_type": "code",
   "execution_count": 13,
   "metadata": {},
   "outputs": [
    {
     "name": "stdout",
     "output_type": "stream",
     "text": [
      "正解です！おめでとうございます！🎉\n"
     ]
    }
   ],
   "source": [
    "ans12 =  45 #　こちらに値を書いてください（「°」は省略してください。）\n",
    "print(check_answer_exercise(ans12,\"ans12\"))"
   ]
  },
  {
   "cell_type": "markdown",
   "metadata": {},
   "source": [
    "【問題13】 $\\arccos (\\frac{1}{2})$  "
   ]
  },
  {
   "cell_type": "code",
   "execution_count": 14,
   "metadata": {},
   "outputs": [
    {
     "name": "stdout",
     "output_type": "stream",
     "text": [
      "正解です！おめでとうございます！🎉\n"
     ]
    }
   ],
   "source": [
    "ans13 =  60 #　こちらに値を書いてください（「°」は省略してください。）\n",
    "print(check_answer_exercise(ans13,\"ans13\"))"
   ]
  },
  {
   "cell_type": "markdown",
   "metadata": {},
   "source": [
    "【問題14】 $\\arctan (1)$  "
   ]
  },
  {
   "cell_type": "code",
   "execution_count": 15,
   "metadata": {},
   "outputs": [
    {
     "name": "stdout",
     "output_type": "stream",
     "text": [
      "正解です！おめでとうございます！🎉\n"
     ]
    }
   ],
   "source": [
    "ans14 =  45 #　こちらに値を書いてください（「°」は省略してください。）\n",
    "print(check_answer_exercise(ans14,\"ans14\"))"
   ]
  },
  {
   "cell_type": "markdown",
   "metadata": {},
   "source": [
    "【問題15】 $\\sin^2 (30^\\circ)+\\cos^2 (30^\\circ)$  "
   ]
  },
  {
   "cell_type": "code",
   "execution_count": 16,
   "metadata": {},
   "outputs": [
    {
     "name": "stdout",
     "output_type": "stream",
     "text": [
      "正解です！おめでとうございます！🎉\n"
     ]
    }
   ],
   "source": [
    "ans15 =  1 #　こちらに値を書いてください\n",
    "print(check_answer_exercise(ans15,\"ans15\"))"
   ]
  },
  {
   "cell_type": "markdown",
   "metadata": {},
   "source": [
    "【問題16】 $\\sin^2 (-45^\\circ)+\\cos^2 (-45^\\circ)$  "
   ]
  },
  {
   "cell_type": "code",
   "execution_count": 17,
   "metadata": {},
   "outputs": [
    {
     "name": "stdout",
     "output_type": "stream",
     "text": [
      "正解です！おめでとうございます！🎉\n"
     ]
    }
   ],
   "source": [
    "ans16 =  1 #　こちらに値を書いてください\n",
    "print(check_answer_exercise(ans16,\"ans16\"))"
   ]
  },
  {
   "cell_type": "markdown",
   "metadata": {},
   "source": [
    "【問題17】 問題1～問題16をPythonで度数法と弧度法を使って計算しし、自分が出した値と一致するか確かめてみてください。（問題12〜14は度数法のみの計算を行ってください。）"
   ]
  },
  {
   "cell_type": "code",
   "execution_count": 18,
   "metadata": {},
   "outputs": [
    {
     "name": "stdout",
     "output_type": "stream",
     "text": [
      "ans1 = 0.5  : ans1_deg =  0.5  : ans1_rad =  0.5\n"
     ]
    }
   ],
   "source": [
    "ans1_deg = math.sin(math.radians(30)) # こちらに度数法の計算式を書いてください。\n",
    "ans1_rad = math.sin(np.pi*(1/6)) # こちらに弧度法の計算式を書いてください。 \n",
    "print(\"ans1 =\", round(ans1,3),\" : ans1_deg = \", round(ans1_deg,3),\" : ans1_rad = \", round(ans1_rad,3))"
   ]
  },
  {
   "cell_type": "code",
   "execution_count": 19,
   "metadata": {},
   "outputs": [
    {
     "name": "stdout",
     "output_type": "stream",
     "text": [
      "ans2 = 0  : ans2_deg =  0.0  : ans2_rad =  0.0\n"
     ]
    }
   ],
   "source": [
    "ans2_deg = math.cos(math.radians(90)) # 度数法\n",
    "ans2_rad = math.cos(np.pi*(1/2)) # 弧度法\n",
    "print(\"ans2 =\", round(ans2,3),\" : ans2_deg = \", round(ans2_deg,3),\" : ans2_rad = \", round(ans2_rad,3))"
   ]
  },
  {
   "cell_type": "code",
   "execution_count": 20,
   "metadata": {},
   "outputs": [
    {
     "name": "stdout",
     "output_type": "stream",
     "text": [
      "ans3 = 1  : ans3_deg =  1.0  : ans3_rad =  1.0\n"
     ]
    }
   ],
   "source": [
    "ans3_deg = math.tan(math.radians(45)) # 度数法\n",
    "ans3_rad = math.tan(np.pi*(1/4)) # 弧度法\n",
    "print(\"ans3 =\", round(ans3,3),\" : ans3_deg = \", round(ans3_deg,3),\" : ans3_rad = \", round(ans3_rad,3))"
   ]
  },
  {
   "cell_type": "code",
   "execution_count": 21,
   "metadata": {},
   "outputs": [
    {
     "name": "stdout",
     "output_type": "stream",
     "text": [
      "ans4 = 0.5  : ans4_deg =  0.5  : ans4_rad =  0.5\n"
     ]
    }
   ],
   "source": [
    "ans4_deg = math.cos(math.radians(60)) # 度数法\n",
    "ans4_rad = math.cos(np.pi*(1/3)) # 弧度法\n",
    "print(\"ans4 =\", round(ans4,3),\" : ans4_deg = \", round(ans4_deg,3),\" : ans4_rad = \", round(ans4_rad,3))"
   ]
  },
  {
   "cell_type": "code",
   "execution_count": 22,
   "metadata": {},
   "outputs": [
    {
     "name": "stdout",
     "output_type": "stream",
     "text": [
      "ans5 = 0  : ans5_deg =  0.0  : ans5_rad =  0.0\n"
     ]
    }
   ],
   "source": [
    "ans5_deg = math.sin(math.radians(0)) # 度数法\n",
    "ans5_rad = math.sin(np.pi*(0)) # 弧度法\n",
    "print(\"ans5 =\", round(ans5,3),\" : ans5_deg = \", round(ans5_deg,3),\" : ans5_rad = \", round(ans5_rad,3))"
   ]
  },
  {
   "cell_type": "code",
   "execution_count": 23,
   "metadata": {},
   "outputs": [
    {
     "name": "stdout",
     "output_type": "stream",
     "text": [
      "ans6 = -0.5  : ans6_deg =  -0.5  : ans6_rad =  -0.5\n"
     ]
    }
   ],
   "source": [
    "ans6_deg = math.cos(math.radians(120)) # 度数法\n",
    "ans6_rad = math.cos(np.pi*(2/3)) # 弧度法\n",
    "print(\"ans6 =\", round(ans6,3),\" : ans6_deg = \", round(ans6_deg,3),\" : ans6_rad = \", round(ans6_rad,3))"
   ]
  },
  {
   "cell_type": "code",
   "execution_count": 24,
   "metadata": {},
   "outputs": [
    {
     "name": "stdout",
     "output_type": "stream",
     "text": [
      "ans7 = -1  : ans7_deg =  -1.0  : ans7_rad =  -1.0\n"
     ]
    }
   ],
   "source": [
    "ans7_deg = math.tan(math.radians(135)) # 度数法\n",
    "ans7_rad = math.tan(np.pi*(3/4)) # 弧度法\n",
    "print(\"ans7 =\", round(ans7,3),\" : ans7_deg = \", round(ans7_deg,3),\" : ans7_rad = \", round(ans7_rad,3))"
   ]
  },
  {
   "cell_type": "code",
   "execution_count": 25,
   "metadata": {},
   "outputs": [
    {
     "name": "stdout",
     "output_type": "stream",
     "text": [
      "ans8 = -1  : ans8_deg =  -1.0  : ans8_rad =  -1.0\n"
     ]
    }
   ],
   "source": [
    "ans8_deg = math.cos(math.radians(180)) # 度数法\n",
    "ans8_rad = math.cos(np.pi*(1)) # 弧度法\n",
    "print(\"ans8 =\", round(ans8,3),\" : ans8_deg = \", round(ans8_deg,3),\" : ans8_rad = \", round(ans8_rad,3))"
   ]
  },
  {
   "cell_type": "code",
   "execution_count": 26,
   "metadata": {},
   "outputs": [
    {
     "name": "stdout",
     "output_type": "stream",
     "text": [
      "ans9 = -0.5  : ans9_deg =  -0.5  : ans9_rad =  -0.5\n"
     ]
    }
   ],
   "source": [
    "ans9_deg = math.sin(math.radians(-30)) # 度数法\n",
    "ans9_rad = math.sin(np.pi*(-1/6)) # 弧度法\n",
    "print(\"ans9 =\", round(ans9,3),\" : ans9_deg = \", round(ans9_deg,3),\" : ans9_rad = \", round(ans9_rad,3))"
   ]
  },
  {
   "cell_type": "code",
   "execution_count": 27,
   "metadata": {},
   "outputs": [
    {
     "name": "stdout",
     "output_type": "stream",
     "text": [
      "ans10 = 0  : ans10_deg =  0.0  : ans10_rad =  0.0\n"
     ]
    }
   ],
   "source": [
    "ans10_deg = math.cos(math.radians(-90)) # 度数法\n",
    "ans10_rad = math.cos(np.pi*(-1/2)) # 弧度法\n",
    "print(\"ans10 =\", round(ans10,3),\" : ans10_deg = \", round(ans10_deg,3),\" : ans10_rad = \", round(ans10_rad,3))"
   ]
  },
  {
   "cell_type": "code",
   "execution_count": 28,
   "metadata": {},
   "outputs": [
    {
     "name": "stdout",
     "output_type": "stream",
     "text": [
      "ans11 = 1  : ans11_deg =  1.0  : ans11_rad =  1.0\n"
     ]
    }
   ],
   "source": [
    "ans11_deg = math.sin(math.radians(450)) # 度数法\n",
    "ans11_rad = math.sin(np.pi*(5/2)) # 弧度法\n",
    "print(\"ans11 =\", round(ans11,3),\" : ans11_deg = \", round(ans11_deg,3),\" : ans11_rad = \", round(ans11_rad,3))"
   ]
  },
  {
   "cell_type": "code",
   "execution_count": 29,
   "metadata": {},
   "outputs": [
    {
     "name": "stdout",
     "output_type": "stream",
     "text": [
      "ans12 = 45  : ans12_deg =  45.0\n"
     ]
    }
   ],
   "source": [
    "ans12_deg = math.degrees(math.asin(1/math.sqrt(2))) # 度数法\n",
    "print(\"ans12 =\", round(ans12,3),\" : ans12_deg = \", round(ans12_deg,3))"
   ]
  },
  {
   "cell_type": "code",
   "execution_count": 30,
   "metadata": {},
   "outputs": [
    {
     "name": "stdout",
     "output_type": "stream",
     "text": [
      "ans13 = 60  : ans13_deg =  60.0\n"
     ]
    }
   ],
   "source": [
    "ans13_deg = math.degrees(math.acos(1/2)) # 度数法\n",
    "print(\"ans13 =\", round(ans13,3),\" : ans13_deg = \", round(ans13_deg,3))"
   ]
  },
  {
   "cell_type": "code",
   "execution_count": 31,
   "metadata": {},
   "outputs": [
    {
     "name": "stdout",
     "output_type": "stream",
     "text": [
      "ans14 = 45  : ans14_deg =  45.0\n"
     ]
    }
   ],
   "source": [
    "ans14_deg = math.degrees(math.atan(1)) # 度数法\n",
    "print(\"ans14 =\", round(ans14,3),\" : ans14_deg = \", round(ans14_deg,3))"
   ]
  },
  {
   "cell_type": "code",
   "execution_count": 32,
   "metadata": {},
   "outputs": [
    {
     "name": "stdout",
     "output_type": "stream",
     "text": [
      "ans15 = 1  : ans15_deg =  1.0  : ans15_rad =  1.0\n"
     ]
    }
   ],
   "source": [
    "ans15_deg = math.sin(math.radians(30))**2 + math.cos(math.radians(30))**2 # 度数法\n",
    "ans15_rad = (math.sin(np.pi*(1/2)))**2+(math.cos(np.pi*(1/2)))**2 # 弧度法\n",
    "print(\"ans15 =\", round(ans15,3),\" : ans15_deg = \", round(ans15_deg,3),\" : ans15_rad = \", round(ans15_rad,3))"
   ]
  },
  {
   "cell_type": "code",
   "execution_count": 33,
   "metadata": {},
   "outputs": [
    {
     "name": "stdout",
     "output_type": "stream",
     "text": [
      "ans16 = 1  : ans16_deg =  1.0  : ans16_rad =  1.0\n"
     ]
    }
   ],
   "source": [
    "ans16_deg = math.sin(math.radians(-45))**2 + math.cos(math.radians(-45))**2 # 度数法\n",
    "ans16_rad = (math.sin(np.pi*(-1/4)))**2+(math.cos(np.pi*(-1/4)))**2 # 弧度法\n",
    "print(\"ans16 =\", round(ans16,3),\" : ans16_deg = \", round(ans16_deg,3),\" : ans16_rad = \", round(ans16_rad,3))"
   ]
  },
  {
   "cell_type": "markdown",
   "metadata": {},
   "source": [
    "# 三角関数の性質\n",
    "\n",
    "三角関数のグラフはPythonでは以下のように描写することができます。以下はサイン関数のグラフです。"
   ]
  },
  {
   "cell_type": "code",
   "execution_count": 34,
   "metadata": {},
   "outputs": [
    {
     "data": {
      "image/png": "[encoded data removed]",
      "text/plain": [
       "<Figure size 432x288 with 1 Axes>"
      ]
     },
     "metadata": {
      "needs_background": "light"
     },
     "output_type": "display_data"
    }
   ],
   "source": [
    "import numpy as np\n",
    "import matplotlib.pyplot as plt\n",
    "\n",
    "x = np.linspace(-np.pi, np.pi)\n",
    "plt.plot(x, np.sin(x), color='b', label='sin')    # color = 'r': red, 'g': green\n",
    "plt.xlim(-np.pi, np.pi)\n",
    "plt.ylim(-1.5, 1.5)\n",
    "\n",
    "plt.axhline(0, ls='-', c='b', lw=0.5)\n",
    "plt.axvline(0, ls='-', c='b', lw=0.5)\n",
    "\n",
    "plt.legend()\n",
    "plt.xlabel('x')\n",
    "plt.ylabel('y')\n",
    "plt.title('Graphs')\n",
    "\n",
    "plt.show()"
   ]
  },
  {
   "cell_type": "markdown",
   "metadata": {},
   "source": [
    "【問題18】 $y=\\cos\\theta\\ \\ (-\\pi< \\theta< \\pi)$のグラフをPythonで描写してみてください。"
   ]
  },
  {
   "cell_type": "code",
   "execution_count": 35,
   "metadata": {
    "scrolled": true
   },
   "outputs": [
    {
     "data": {
      "image/png": "[encoded data removed]",
      "text/plain": [
       "<Figure size 432x288 with 1 Axes>"
      ]
     },
     "metadata": {
      "needs_background": "light"
     },
     "output_type": "display_data"
    }
   ],
   "source": [
    "x = np.linspace(-np.pi, np.pi)\n",
    "plt.plot(x, np.cos(x), color='r', label='cos')\n",
    "\n",
    "plt.xlim(-np.pi, np.pi)\n",
    "plt.ylim(-1.5, 1.5)\n",
    "\n",
    "plt.axhline(0, ls='-', c='b', lw=0.5)\n",
    "plt.axvline(0, ls='-', c='b', lw=0.5)\n",
    "\n",
    "plt.legend()\n",
    "plt.xlabel('x')\n",
    "plt.ylabel('y')\n",
    "plt.title('Graphs')\n",
    "\n",
    "plt.show()"
   ]
  },
  {
   "cell_type": "markdown",
   "metadata": {},
   "source": [
    "【問題19】$y_1=\\sin\\theta$のグラフと\\$y_2=\\cos\\theta$のグラフをPythonで重ねて描写してみてください。"
   ]
  },
  {
   "cell_type": "code",
   "execution_count": 36,
   "metadata": {},
   "outputs": [
    {
     "data": {
      "image/png": "[encoded data removed]",
      "text/plain": [
       "<Figure size 432x288 with 1 Axes>"
      ]
     },
     "metadata": {
      "needs_background": "light"
     },
     "output_type": "display_data"
    }
   ],
   "source": [
    "x = np.linspace(-np.pi, np.pi)\n",
    "plt.plot(x, np.sin(x), color='b', label='sin')   \n",
    "plt.plot(x, np.cos(x), color='r', label='cos')\n",
    "\n",
    "plt.xlim(-np.pi, np.pi)\n",
    "plt.ylim(-1.5, 1.5)\n",
    "\n",
    "plt.axhline(0, ls='-', c='b', lw=0.5)\n",
    "plt.axvline(0, ls='-', c='b', lw=0.5)\n",
    "\n",
    "plt.legend()\n",
    "plt.xlabel('x')\n",
    "plt.ylabel('y')\n",
    "plt.title('Graphs')\n",
    "\n",
    "plt.show()"
   ]
  },
  {
   "cell_type": "markdown",
   "metadata": {},
   "source": [
    "【問題20】$y=\\tan\\theta\\ \\ (-2\\pi< \\theta< 2\\pi)$のグラフをPythonで描写してみてください。"
   ]
  },
  {
   "cell_type": "code",
   "execution_count": 37,
   "metadata": {},
   "outputs": [
    {
     "data": {
      "image/png": "[encoded data removed]",
      "text/plain": [
       "<Figure size 432x288 with 1 Axes>"
      ]
     },
     "metadata": {
      "needs_background": "light"
     },
     "output_type": "display_data"
    }
   ],
   "source": [
    "x = np.linspace(-2*np.pi, 2*np.pi)\n",
    "plt.plot(x, np.tan(x), color='r', label='tan')\n",
    "\n",
    "plt.xlim(-2*np.pi, 2*np.pi)\n",
    "plt.ylim(-1.5, 1.5)\n",
    "\n",
    "plt.axhline(0, ls='-', c='b', lw=0.5)\n",
    "plt.axvline(0, ls='-', c='b', lw=0.5)\n",
    "\n",
    "plt.legend()\n",
    "plt.xlabel('x')\n",
    "plt.ylabel('y')\n",
    "plt.title('Graphs')\n",
    "\n",
    "plt.show()"
   ]
  },
  {
   "cell_type": "markdown",
   "metadata": {},
   "source": [
    "##### 最後に\n",
    "\n",
    "グラフを描画するためのクラスを作っておきました。クラスを作っておきました。自分が好きなグラフを書いてみてください。\n",
    "\n",
    "使い方\n",
    "- GraphClassを継承する。\n",
    "- クラスを生成するときは、グラフのx軸の最大最小値、（デフォルトの定義域）y軸の最大最小値を定義する。\n",
    "- 自分の好きなグラフをsetGraph関数に記述する。"
   ]
  },
  {
   "cell_type": "code",
   "execution_count": 38,
   "metadata": {},
   "outputs": [],
   "source": [
    "class GraphClass:\n",
    "    # x_start:x軸の最小値\n",
    "    # x_end:x軸の最大値\n",
    "    # x_start、x_endは表示する関数のデフォルトの定義域\n",
    "    # y_start:y軸の最小値\n",
    "    # y_end:y軸の最大値\n",
    "    def __init__(self, x_start, x_end, y_start , y_end):\n",
    "        self.x_start = x_start\n",
    "        self.x_end = x_end\n",
    "        self.y_start = y_start\n",
    "        self.y_end = y_end\n",
    "        self.x = np.linspace(x_start,x_end)\n",
    "        self.plt = plt\n",
    "    \n",
    "    # オーバーライドする。自分が表示したいグラフを定義する\n",
    "    def setGraph(self):\n",
    "        pass\n",
    "    \n",
    "    # グラフを表示する\n",
    "    def displayGraph(self):\n",
    "        self.setGraph()\n",
    "        self.__setBasicConfig()\n",
    "        self.plt.show()\n",
    "    \n",
    "    # sinグラフを表示する\n",
    "    def displaySin(self):\n",
    "        self.plt.plot(self.x, np.sin(self.x), color='b', label='sin')\n",
    "        self.__setBasicConfig()\n",
    "        self.plt.show()\n",
    "    \n",
    "    # cosグラフを表示する\n",
    "    def displayCos(self):\n",
    "        self.plt.plot(self.x, np.cos(self.x), color='r', label='cos')\n",
    "        self.__setBasicConfig()\n",
    "        self.plt.show()\n",
    "    \n",
    "    # tanグラフを表示する\n",
    "    def displayTan(self):\n",
    "        self.plt.plot(self.x, np.tan(self.x), color='y', label='tan')\n",
    "        self.__setBasicConfig()\n",
    "        self.plt.show()\n",
    "    \n",
    "    # 基本的な設定\n",
    "    def __setBasicConfig(self):\n",
    "        self.plt.xlim(self.x_start, self.x_end)\n",
    "        self.plt.ylim(self.y_start, self.y_end)\n",
    "        self.plt.gca().set_aspect('equal', adjustable='box')\n",
    "        self.plt.axhline(0, ls='-', c='b', lw=0.5)\n",
    "        self.plt.axvline(0, ls='-', c='b', lw=0.5)\n",
    "        self.plt.xticks(rotation=45)\n",
    "        self.plt.legend()\n",
    "        self.plt.xlabel('x')\n",
    "        self.plt.ylabel('y')\n",
    "        self.plt.title('Graphs')\n"
   ]
  },
  {
   "cell_type": "code",
   "execution_count": 39,
   "metadata": {},
   "outputs": [],
   "source": [
    "# 自分のクラスを定義する 以下はサンプル\n",
    "\n",
    "class MyGraphClass(GraphClass):\n",
    "    def __init__(self, x_start, x_end, y_start , y_end):\n",
    "        super().__init__(x_start, x_end, y_start , y_end)\n",
    "\n",
    "    # オーバーライドする\n",
    "    def setGraph(self):\n",
    "        #sin\n",
    "        self.plt.plot(self.x, 2*np.sin(self.x), color='b', label='sin')\n",
    "        #cos\n",
    "        self.plt.plot(self.x, np.cos(self.x), color='g', label='cos')\n",
    "        \n",
    "        #単位円 デフォルトとは異なる定義域にする。\n",
    "        r=1\n",
    "        x = np.linspace(-r, r)\n",
    "        self.plt.plot(x, np.sqrt(r ** 2 - x ** 2), color='r', label='x^2+y^2')\n",
    "        self.plt.plot(x, -np.sqrt(r ** 2 - x ** 2), color='r', label='x^2+y^2')\n",
    "        \n",
    "        # 点を入れる\n",
    "        self.plt.plot(np.cos(math.radians(30)), np.sin(math.radians(30)), marker='X', markersize=20) \n",
    "        \n",
    "        #tan\n",
    "        #self.plt.plot(self.x, np.tan(self.x), color='y', label='tan')\n",
    "        \n",
    "        #exp\n",
    "        #self.plt.plot(self.x, np.exp(self.x), color='m', label='exp')\n"
   ]
  },
  {
   "cell_type": "code",
   "execution_count": 40,
   "metadata": {},
   "outputs": [
    {
     "data": {
      "image/png": "[encoded data removed]",
      "text/plain": [
       "<Figure size 432x288 with 1 Axes>"
      ]
     },
     "metadata": {
      "needs_background": "light"
     },
     "output_type": "display_data"
    }
   ],
   "source": [
    "myGraphClass = MyGraphClass(-1,1,-1,1)\n",
    "myGraphClass.displayGraph()\n",
    "#myGraphClass.displaySin()\n",
    "#myGraphClass.displayCos()\n",
    "#myGraphClass.displayTan()"
   ]
  },
  {
   "cell_type": "code",
   "execution_count": null,
   "metadata": {},
   "outputs": [],
   "source": []
  }
 ],
 "metadata": {
  "kernelspec": {
   "display_name": "Python 3",
   "language": "python",
   "name": "python3"
  },
  "language_info": {
   "codemirror_mode": {
    "name": "ipython",
    "version": 3
   },
   "file_extension": ".py",
   "mimetype": "text/x-python",
   "name": "python",
   "nbconvert_exporter": "python",
   "pygments_lexer": "ipython3",
   "version": "3.7.3"
  }
 },
 "nbformat": 4,
 "nbformat_minor": 2
}
