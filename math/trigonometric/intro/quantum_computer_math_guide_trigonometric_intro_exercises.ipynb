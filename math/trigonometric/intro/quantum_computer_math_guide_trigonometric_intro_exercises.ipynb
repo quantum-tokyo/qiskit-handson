{
 "cells": [
  {
   "cell_type": "code",
   "execution_count": null,
   "metadata": {},
   "outputs": [],
   "source": [
    "import math\n",
    "import numpy as np\n",
    "import matplotlib.pyplot as plt\n",
    "#from fractions import Fraction\n",
    "from quantum_computer_math_guide_trigonometric_intro_exercise_answer import *"
   ]
  },
  {
   "cell_type": "markdown",
   "metadata": {},
   "source": [
    "##### 演習を始める前に\n",
    "\n",
    "- pythonを利用して度数法(deg)を弧度法(rad)に変換する\n",
    "`math.radians(90) 90°→ 1.5707963267948966` \n",
    "- pythonを利用して弧度法(rad)を度数法(deg) に変換する\n",
    "`math.degrees(np.pi/2) 1.5707963267948966→ 90°` \n",
    "- pythonを利用してsinを計算する\n",
    "`math.sin(math.radians(30))`\n",
    " - 30度の正弦は0.5だが、無理数である円周率を正確に計算できないので誤差が生じる。適当な桁数で四捨五入したい場合は、round()関数またはformat()メソッド、format()関数で丸める。round()の返り値は数値（整数intか浮動小数点数float）だが、format()の返り値は文字列strなので注意する。またround()関数は第二引数に小数点以下の桁数を指定する。厳密には四捨五入ではないので注意。\n",
    "`round(math.sin(math.radians(30)),1)`\n",
    "`'{:.1}'.format(math.radians(30))`\n",
    "`format(math.radians(30), '.1')`\n",
    "- pythonを利用してcosを計算する\n",
    "`math.cos(math.radians(60))`\n",
    "- pythonを利用してtanを計算する\n",
    "`math.tan(math.radians(45))`\n",
    "- pythonを利用して逆正弦arcsinを計算する\n",
    "`math.asin(0.5)`\n",
    "- pythonを利用して逆余弦arccosを計算する\n",
    "`math.acos(0.5)`\n",
    "- pythonを利用して逆正接arctanを計算する\n",
    "`math.atan(1)`\n",
    "- pythonを利用してべき乗を計算する\n",
    "`2 ** 8`"
   ]
  },
  {
   "cell_type": "markdown",
   "metadata": {},
   "source": [
    "# 三角関数の値\n",
    "\n",
    "次の三角関数の値を求めてください。"
   ]
  },
  {
   "cell_type": "markdown",
   "metadata": {},
   "source": [
    "【問題1】$\\sin 30^\\circ$ "
   ]
  },
  {
   "cell_type": "code",
   "execution_count": null,
   "metadata": {},
   "outputs": [],
   "source": [
    "ans1 =  # こちらに値を書いてください\n",
    "print(check_answer_exercise(ans1,\"ans1\"))"
   ]
  },
  {
   "cell_type": "markdown",
   "metadata": {},
   "source": [
    "【問題2】 $\\cos 90^\\circ$ "
   ]
  },
  {
   "cell_type": "code",
   "execution_count": null,
   "metadata": {},
   "outputs": [],
   "source": [
    "ans2 = #　こちらに値を書いてください。\n",
    "print(check_answer_exercise(ans2,\"ans2\"))"
   ]
  },
  {
   "cell_type": "markdown",
   "metadata": {},
   "source": [
    "【問題3】$\\tan 45^\\circ$ "
   ]
  },
  {
   "cell_type": "code",
   "execution_count": null,
   "metadata": {},
   "outputs": [],
   "source": [
    "ans3 = #　こちらに値を書いてください。\n",
    "print(check_answer_exercise(ans3,\"ans3\"))"
   ]
  },
  {
   "cell_type": "markdown",
   "metadata": {},
   "source": [
    "【問題4】 $\\cos 60^\\circ$ "
   ]
  },
  {
   "cell_type": "code",
   "execution_count": null,
   "metadata": {},
   "outputs": [],
   "source": [
    "ans4 = #　こちらに値を書いてください。\n",
    "print(check_answer_exercise(ans4,\"ans4\"))"
   ]
  },
  {
   "cell_type": "markdown",
   "metadata": {},
   "source": [
    "【問題5】 $\\sin 0^\\circ$ "
   ]
  },
  {
   "cell_type": "code",
   "execution_count": null,
   "metadata": {},
   "outputs": [],
   "source": [
    "ans5 = #　こちらに値を書いてください。\n",
    "print(check_answer_exercise(ans5,\"ans5\"))"
   ]
  },
  {
   "cell_type": "markdown",
   "metadata": {},
   "source": [
    "【問題6】 $\\cos 120^\\circ$ "
   ]
  },
  {
   "cell_type": "code",
   "execution_count": null,
   "metadata": {},
   "outputs": [],
   "source": [
    "ans6 = #　こちらに値を書いてください。\n",
    "print(check_answer_exercise(ans6,\"ans6\"))"
   ]
  },
  {
   "cell_type": "markdown",
   "metadata": {},
   "source": [
    "【問題7】 $\\tan 135^\\circ$ "
   ]
  },
  {
   "cell_type": "code",
   "execution_count": null,
   "metadata": {
    "scrolled": true
   },
   "outputs": [],
   "source": [
    "ans7 = #　こちらに値を書いてください。\n",
    "print(check_answer_exercise(ans7,\"ans7\"))"
   ]
  },
  {
   "cell_type": "markdown",
   "metadata": {},
   "source": [
    "【問題8】 $\\cos 180^\\circ$ "
   ]
  },
  {
   "cell_type": "code",
   "execution_count": null,
   "metadata": {},
   "outputs": [],
   "source": [
    "ans8 = #　こちらに値を書いてください。\n",
    "print(check_answer_exercise(ans8,\"ans8\"))"
   ]
  },
  {
   "cell_type": "markdown",
   "metadata": {},
   "source": [
    "【問題9】 $\\sin (-30^\\circ)$ "
   ]
  },
  {
   "cell_type": "code",
   "execution_count": null,
   "metadata": {},
   "outputs": [],
   "source": [
    "ans9 = #　こちらに値を書いてください。\n",
    "print(check_answer_exercise(ans9,\"ans9\"))"
   ]
  },
  {
   "cell_type": "markdown",
   "metadata": {},
   "source": [
    "【問題10】 $\\cos (-90^\\circ)$ "
   ]
  },
  {
   "cell_type": "code",
   "execution_count": null,
   "metadata": {},
   "outputs": [],
   "source": [
    "ans10 = #　こちらに値を書いてください。\n",
    "print(check_answer_exercise(ans10,\"ans10\"))"
   ]
  },
  {
   "cell_type": "markdown",
   "metadata": {},
   "source": [
    "【問題11】 $\\sin (450^\\circ)$ "
   ]
  },
  {
   "cell_type": "code",
   "execution_count": null,
   "metadata": {},
   "outputs": [],
   "source": [
    "ans11 = #　こちらに値を書いてください。\n",
    "print(check_answer_exercise(ans11,\"ans11\"))"
   ]
  },
  {
   "cell_type": "markdown",
   "metadata": {},
   "source": [
    "【問題12】 $\\arcsin (\\frac{1}{\\sqrt 2})$  "
   ]
  },
  {
   "cell_type": "code",
   "execution_count": null,
   "metadata": {},
   "outputs": [],
   "source": [
    "ans12 = #　こちらに度数法での値を書いてください（「°」は省略してください。）\n",
    "print(check_answer_exercise(ans12,\"ans12\"))"
   ]
  },
  {
   "cell_type": "markdown",
   "metadata": {},
   "source": [
    "【問題13】 $\\arccos (\\frac{1}{2})$  "
   ]
  },
  {
   "cell_type": "code",
   "execution_count": null,
   "metadata": {},
   "outputs": [],
   "source": [
    "ans13 = #　こちらに度数法での値を書いてください（「°」は省略してください。）\n",
    "print(check_answer_exercise(ans13,\"ans13\"))"
   ]
  },
  {
   "cell_type": "markdown",
   "metadata": {},
   "source": [
    "【問題14】 $\\arctan (1)$  "
   ]
  },
  {
   "cell_type": "code",
   "execution_count": null,
   "metadata": {},
   "outputs": [],
   "source": [
    "ans14 = #　こちらに度数法での値を書いてください（「°」は省略してください。）\n",
    "print(check_answer_exercise(ans14,\"ans14\"))"
   ]
  },
  {
   "cell_type": "markdown",
   "metadata": {},
   "source": [
    "【問題15】 $\\sin^2 (30^\\circ)+\\cos^2 (30^\\circ)$  "
   ]
  },
  {
   "cell_type": "code",
   "execution_count": null,
   "metadata": {},
   "outputs": [],
   "source": [
    "ans15 = #　こちらに値を書いてください\n",
    "print(check_answer_exercise(ans15,\"ans15\"))"
   ]
  },
  {
   "cell_type": "markdown",
   "metadata": {},
   "source": [
    "【問題16】 $\\sin^2 (-45^\\circ)+\\cos^2 (-45^\\circ)$  "
   ]
  },
  {
   "cell_type": "code",
   "execution_count": null,
   "metadata": {},
   "outputs": [],
   "source": [
    "ans16 = #　こちらに値を書いてください\n",
    "print(check_answer_exercise(ans16,\"ans16\"))"
   ]
  },
  {
   "cell_type": "markdown",
   "metadata": {},
   "source": [
    "【問題17】 問題1～問題16をPythonで度数法と弧度法を使って計算しし、自分が出した値と一致するか確かめてみてください。（問題12〜14は度数法のみの計算を行ってください。）"
   ]
  },
  {
   "cell_type": "code",
   "execution_count": null,
   "metadata": {},
   "outputs": [],
   "source": [
    "ans1_deg = math.sin(math.radians(ここに度数を入力)) # こちらに度数法の計算式を書いてください。\n",
    "ans1_rad = math.sin(np.pi*(ここに弧度数を入力)) # こちらに弧度法の計算式を書いてください。 \n",
    "print(\"ans1 =\", round(ans1,3),\" : ans1_deg = \", round(ans1_deg,3),\" : ans1_rad = \", round(ans1_rad,3))"
   ]
  },
  {
   "cell_type": "code",
   "execution_count": null,
   "metadata": {},
   "outputs": [],
   "source": [
    "ans2_deg = # こちらに度数法の計算式を書いてください。\n",
    "ans2_rad =  # こちらに弧度法の計算式を書いてください。 \n",
    "print(\"ans2 =\", round(ans2,3),\" : ans2_deg = \", round(ans2_deg,3),\" : ans2_rad = \", round(ans2_rad,3))"
   ]
  },
  {
   "cell_type": "code",
   "execution_count": null,
   "metadata": {},
   "outputs": [],
   "source": [
    "ans3_deg = # こちらに度数法の計算式を書いてください。\n",
    "ans3_rad = # こちらに弧度法の計算式を書いてください。 \n",
    "print(\"ans3 =\", round(ans3,3),\" : ans3_deg = \", round(ans3_deg,3),\" : ans3_rad = \", round(ans3_rad,3))"
   ]
  },
  {
   "cell_type": "code",
   "execution_count": null,
   "metadata": {},
   "outputs": [],
   "source": [
    "ans4_deg = # こちらに度数法の計算式を書いてください。\n",
    "ans4_rad = # こちらに弧度法の計算式を書いてください。\n",
    "print(\"ans4 =\", round(ans4,3),\" : ans4_deg = \", round(ans4_deg,3),\" : ans4_rad = \", round(ans4_rad,3))"
   ]
  },
  {
   "cell_type": "code",
   "execution_count": null,
   "metadata": {},
   "outputs": [],
   "source": [
    "ans5_deg = # こちらに度数法の計算式を書いてください。\n",
    "ans5_rad = # こちらに弧度法の計算式を書いてください。\n",
    "print(\"ans5 =\", round(ans5,3),\" : ans5_deg = \", round(ans5_deg,3),\" : ans5_rad = \", round(ans5_rad,3))"
   ]
  },
  {
   "cell_type": "code",
   "execution_count": null,
   "metadata": {},
   "outputs": [],
   "source": [
    "ans6_deg = # こちらに度数法の計算式を書いてください。\n",
    "ans6_rad = # こちらに弧度法の計算式を書いてください。\n",
    "print(\"ans6 =\", round(ans6,3),\" : ans6_deg = \", round(ans6_deg,3),\" : ans6_rad = \", round(ans6_rad,3))"
   ]
  },
  {
   "cell_type": "code",
   "execution_count": null,
   "metadata": {},
   "outputs": [],
   "source": [
    "ans7_deg = # こちらに度数法の計算式を書いてください。\n",
    "ans7_rad = # こちらに弧度法の計算式を書いてください。\n",
    "print(\"ans7 =\", round(ans7,3),\" : ans7_deg = \", round(ans7_deg,3),\" : ans7_rad = \", round(ans7_rad,3))"
   ]
  },
  {
   "cell_type": "code",
   "execution_count": null,
   "metadata": {},
   "outputs": [],
   "source": [
    "ans8_deg = # こちらに度数法の計算式を書いてください。\n",
    "ans8_rad = # こちらに弧度法の計算式を書いてください。\n",
    "print(\"ans8 =\", round(ans8,3),\" : ans8_deg = \", round(ans8_deg,3),\" : ans8_rad = \", round(ans8_rad,3))"
   ]
  },
  {
   "cell_type": "code",
   "execution_count": null,
   "metadata": {},
   "outputs": [],
   "source": [
    "ans9_deg = # こちらに度数法の計算式を書いてください。\n",
    "ans9_rad = # こちらに弧度法の計算式を書いてください。\n",
    "print(\"ans9 =\", round(ans9,3),\" : ans9_deg = \", round(ans9_deg,3),\" : ans9_rad = \", round(ans9_rad,3))"
   ]
  },
  {
   "cell_type": "code",
   "execution_count": null,
   "metadata": {},
   "outputs": [],
   "source": [
    "ans10_deg = # こちらに度数法の計算式を書いてください。\n",
    "ans10_rad = # こちらに弧度法の計算式を書いてください。\n",
    "print(\"ans10 =\", round(ans10,3),\" : ans10_deg = \", round(ans10_deg,3),\" : ans10_rad = \", round(ans10_rad,3))"
   ]
  },
  {
   "cell_type": "code",
   "execution_count": null,
   "metadata": {},
   "outputs": [],
   "source": [
    "ans11_deg = # こちらに度数法の計算式を書いてください。\n",
    "ans11_rad = # こちらに弧度法の計算式を書いてください。\n",
    "print(\"ans11 =\", round(ans11,3),\" : ans11_deg = \", round(ans11_deg,3),\" : ans11_rad = \", round(ans11_rad,3))"
   ]
  },
  {
   "cell_type": "code",
   "execution_count": null,
   "metadata": {},
   "outputs": [],
   "source": [
    "ans12_deg = # こちらに度数法の計算式を書いてください。\n",
    "print(\"ans12 =\", round(ans12,3),\" : ans12_deg = \", round(ans12_deg,3))"
   ]
  },
  {
   "cell_type": "code",
   "execution_count": null,
   "metadata": {},
   "outputs": [],
   "source": [
    "ans13_deg = # こちらに度数法の計算式を書いてください。\n",
    "print(\"ans13 =\", round(ans13,3),\" : ans13_deg = \", round(ans13_deg,3))"
   ]
  },
  {
   "cell_type": "code",
   "execution_count": null,
   "metadata": {},
   "outputs": [],
   "source": [
    "ans14_deg = # こちらに度数法の計算式を書いてください。\n",
    "print(\"ans14 =\", round(ans14,3),\" : ans14_deg = \", round(ans14_deg,3))"
   ]
  },
  {
   "cell_type": "code",
   "execution_count": null,
   "metadata": {},
   "outputs": [],
   "source": [
    "ans15_deg = # こちらに度数法の計算式を書いてください。\n",
    "ans15_rad = # こちらに弧度法の計算式を書いてください。\n",
    "print(\"ans15 =\", round(ans15,3),\" : ans15_deg = \", round(ans15_deg,3),\" : ans15_rad = \", round(ans15_rad,3))"
   ]
  },
  {
   "cell_type": "code",
   "execution_count": null,
   "metadata": {},
   "outputs": [],
   "source": [
    "ans16_deg = # こちらに度数法の計算式を書いてください。\n",
    "ans16_rad = # こちらに弧度法の計算式を書いてください。\n",
    "print(\"ans16 =\", round(ans16,3),\" : ans16_deg = \", round(ans16_deg,3),\" : ans16_rad = \", round(ans16_rad,3))"
   ]
  },
  {
   "cell_type": "markdown",
   "metadata": {},
   "source": [
    "# 三角関数の性質\n",
    "\n",
    "三角関数のグラフはPythonでは以下のように描写することができます。以下はサイン関数のグラフです。"
   ]
  },
  {
   "cell_type": "code",
   "execution_count": null,
   "metadata": {},
   "outputs": [],
   "source": [
    "import numpy as np\n",
    "import matplotlib.pyplot as plt\n",
    "\n",
    "x = np.linspace(-np.pi, np.pi)\n",
    "plt.plot(x, np.sin(x), color='b', label='sin')    # color = 'r': red, 'g': green\n",
    "plt.xlim(-np.pi, np.pi)\n",
    "plt.ylim(-1.5, 1.5)\n",
    "\n",
    "plt.axhline(0, ls='-', c='b', lw=0.5)\n",
    "plt.axvline(0, ls='-', c='b', lw=0.5)\n",
    "\n",
    "plt.legend()\n",
    "plt.xlabel('x')\n",
    "plt.ylabel('y')\n",
    "plt.title('Graphs')\n",
    "\n",
    "plt.show()"
   ]
  },
  {
   "cell_type": "markdown",
   "metadata": {},
   "source": [
    "【問題18】 $y=\\cos\\theta\\ \\ (-\\pi< \\theta< \\pi)$のグラフをPythonで描写してみてください。"
   ]
  },
  {
   "cell_type": "markdown",
   "metadata": {},
   "source": [
    "【問題19】$y_1=\\sin\\theta$のグラフと\\$y_2=\\cos\\theta$のグラフをPythonで重ねて描写してみてください。"
   ]
  },
  {
   "cell_type": "markdown",
   "metadata": {},
   "source": [
    "【問題20】$y=\\tan\\theta\\ \\ (-2\\pi< \\theta< 2\\pi)$のグラフをPythonで描写してみてください。"
   ]
  },
  {
   "cell_type": "markdown",
   "metadata": {},
   "source": [
    "##### 最後に\n",
    "\n",
    "グラフを描画するためのクラスを作っておきました。クラスを作っておきました。自分が好きなグラフを書いてみてください。\n",
    "\n",
    "使い方\n",
    "- GraphClassを継承する。\n",
    "- クラスを生成するときは、グラフのx軸の最大最小値、（デフォルトの定義域）y軸の最大最小値を定義する。\n",
    "- 自分の好きなグラフをsetGraph関数に記述する。"
   ]
  },
  {
   "cell_type": "code",
   "execution_count": null,
   "metadata": {},
   "outputs": [],
   "source": [
    "class GraphClass:\n",
    "    # x_start:x軸の最小値\n",
    "    # x_end:x軸の最大値\n",
    "    # x_start、x_endは表示する関数のデフォルトの定義域\n",
    "    # y_start:y軸の最小値\n",
    "    # y_end:y軸の最大値\n",
    "    def __init__(self, x_start, x_end, y_start , y_end):\n",
    "        self.x_start = x_start\n",
    "        self.x_end = x_end\n",
    "        self.y_start = y_start\n",
    "        self.y_end = y_end\n",
    "        self.x = np.linspace(x_start,x_end)\n",
    "        self.plt = plt\n",
    "    \n",
    "    # オーバーライドする。自分が表示したいグラフを定義する\n",
    "    def setGraph(self):\n",
    "        pass\n",
    "    \n",
    "    # グラフを表示する\n",
    "    def displayGraph(self):\n",
    "        self.setGraph()\n",
    "        self.__setBasicConfig()\n",
    "        self.plt.show()\n",
    "    \n",
    "    # sinグラフを表示する\n",
    "    def displaySin(self):\n",
    "        self.plt.plot(self.x, np.sin(self.x), color='b', label='sin')\n",
    "        self.__setBasicConfig()\n",
    "        self.plt.show()\n",
    "    \n",
    "    # cosグラフを表示する\n",
    "    def displayCos(self):\n",
    "        self.plt.plot(self.x, np.cos(self.x), color='r', label='cos')\n",
    "        self.__setBasicConfig()\n",
    "        self.plt.show()\n",
    "    \n",
    "    # tanグラフを表示する\n",
    "    def displayTan(self):\n",
    "        self.plt.plot(self.x, np.tan(self.x), color='y', label='tan')\n",
    "        self.__setBasicConfig()\n",
    "        self.plt.show()\n",
    "    \n",
    "    # 基本的な設定\n",
    "    def __setBasicConfig(self):\n",
    "        self.plt.xlim(self.x_start, self.x_end)\n",
    "        self.plt.ylim(self.y_start, self.y_end)\n",
    "        self.plt.gca().set_aspect('equal', adjustable='box')\n",
    "        self.plt.axhline(0, ls='-', c='b', lw=0.5)\n",
    "        self.plt.axvline(0, ls='-', c='b', lw=0.5)\n",
    "        self.plt.xticks(rotation=45)\n",
    "        self.plt.legend()\n",
    "        self.plt.xlabel('x')\n",
    "        self.plt.ylabel('y')\n",
    "        self.plt.title('Graphs')\n"
   ]
  },
  {
   "cell_type": "code",
   "execution_count": null,
   "metadata": {},
   "outputs": [],
   "source": [
    "# 自分のクラスを定義する 以下はサンプル\n",
    "\n",
    "class MyGraphClass(GraphClass):\n",
    "    def __init__(self, x_start, x_end, y_start , y_end):\n",
    "        super().__init__(x_start, x_end, y_start , y_end)\n",
    "\n",
    "    # オーバーライドする\n",
    "    def setGraph(self):\n",
    "        #sin\n",
    "        self.plt.plot(self.x, 2*np.sin(self.x), color='b', label='sin')\n",
    "        #cos\n",
    "        self.plt.plot(self.x, np.cos(self.x), color='g', label='cos')\n",
    "        \n",
    "        #単位円 デフォルトとは異なる定義域にする。\n",
    "        r=1\n",
    "        x = np.linspace(-r, r)\n",
    "        self.plt.plot(x, np.sqrt(r ** 2 - x ** 2), color='r', label='x^2+y^2')\n",
    "        self.plt.plot(x, -np.sqrt(r ** 2 - x ** 2), color='r', label='x^2+y^2')\n",
    "        \n",
    "        # 点を入れる\n",
    "        self.plt.plot(np.cos(math.radians(30)), np.sin(math.radians(30)), marker='X', markersize=20) \n",
    "        \n",
    "        #tan\n",
    "        #self.plt.plot(self.x, np.tan(self.x), color='y', label='tan')\n",
    "        \n",
    "        #exp\n",
    "        #self.plt.plot(self.x, np.exp(self.x), color='m', label='exp')\n"
   ]
  },
  {
   "cell_type": "code",
   "execution_count": null,
   "metadata": {},
   "outputs": [],
   "source": [
    "myGraphClass = MyGraphClass(-1,1,-1,1)\n",
    "myGraphClass.displayGraph()\n",
    "#myGraphClass.displaySin()\n",
    "#myGraphClass.displayCos()\n",
    "#myGraphClass.displayTan()"
   ]
  },
  {
   "cell_type": "code",
   "execution_count": null,
   "metadata": {},
   "outputs": [],
   "source": []
  }
 ],
 "metadata": {
  "kernelspec": {
   "display_name": "Python 3",
   "language": "python",
   "name": "python3"
  },
  "language_info": {
   "codemirror_mode": {
    "name": "ipython",
    "version": 3
   },
   "file_extension": ".py",
   "mimetype": "text/x-python",
   "name": "python",
   "nbconvert_exporter": "python",
   "pygments_lexer": "ipython3",
   "version": "3.7.3"
  }
 },
 "nbformat": 4,
 "nbformat_minor": 2
}
